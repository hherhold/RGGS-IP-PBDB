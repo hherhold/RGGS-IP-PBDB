{
 "cells": [
  {
   "cell_type": "markdown",
   "id": "amazing-music",
   "metadata": {},
   "source": [
    "# Occurrence data for Invertebrate Paleo Group Project, Spring 2021, AMNH RGGS\n",
    "\n",
    "## Load libraries.\n",
    "\n",
    "Some of this stuff is vestigial tails from other projects\n",
    "(for example, matplotlib isn't necessary but I'm leaving it in here out of habit)."
   ]
  },
  {
   "cell_type": "code",
   "execution_count": 37,
   "id": "secondary-wilson",
   "metadata": {},
   "outputs": [],
   "source": [
    "import os\n",
    "import requests\n",
    "import pandas as pd\n",
    "import numpy as np\n",
    "import matplotlib.pyplot as plt\n",
    "from collections import defaultdict\n",
    "%matplotlib inline"
   ]
  },
  {
   "cell_type": "markdown",
   "id": "allied-abuse",
   "metadata": {},
   "source": [
    "# PBDB Queries\n",
    "\n",
    "Load in PBDB occurrences from Asia and North America, from 520-500mya. These URLs are from the \"Download Records\"\n",
    "page on paleobiodb.org.\n",
    "\n",
    "The CSV files are cached in the filenames specified below. You can force downloading by either deleting the CSV files\n",
    "or by setting FORCE_DOWNLOAD below to True."
   ]
  },
  {
   "cell_type": "code",
   "execution_count": 38,
   "id": "elegant-bonus",
   "metadata": {},
   "outputs": [],
   "source": [
    "FORCE_DOWNLOAD = False\n",
    "\n",
    "asia_520_500_pbdb_url = (\n",
    "    \"http://paleobiodb.org/data1.2/occs/list.csv?datainfo&rowcount&max_ma=520&min_ma=500&cc=ASI&\"\n",
    "    \"lithology=siliciclastic,mixed,carbonate,evaporite,organic,chemical,volcanic,metasedimentary,\"\n",
    "    \"metamorphic,other,unknown&envtype=terr,marine,carbonate,silicic,unknown,lacust,fluvial,karst,\"\n",
    "    \"terrother,marginal,reef,stshallow,stdeep,offshore,slope,marindet&show=full,genus,subgenus,strat,env,ref\"\n",
    ")\n",
    "asia_csv_filename = \"pbdb_asia_raw_520_500.csv\"\n",
    "    \n",
    "na_520_500_pbdb_url = (\n",
    "    \"http://paleobiodb.org/data1.2/occs/list.csv?datainfo&rowcount&max_ma=520&min_ma=500&cc=NOA&\"\n",
    "    \"lithology=siliciclastic,mixed,carbonate,evaporite,organic,chemical,volcanic,metasedimentary,\"\n",
    "    \"metamorphic,other,unknown&envtype=terr,marine,carbonate,silicic,unknown,lacust,fluvial,karst,\"\n",
    "    \"terrother,marginal,reef,stshallow,stdeep,offshore,slope,marindet&show=full,genus,subgenus,strat,env,ref\"\n",
    ")\n",
    "na_csv_filename = \"pbdb_na_raw_520_500.csv\"\n",
    "\n",
    "if (not os.path.exists(asia_csv_filename)) or FORCE_DOWNLOAD == True:\n",
    "    r = requests.get(asia_520_500_pbdb_url, allow_redirects=True)\n",
    "    open(asia_csv_filename, 'wb').write(r.content)\n",
    "\n",
    "if (not os.path.exists(na_csv_filename)) or FORCE_DOWNLOAD == True:\n",
    "    r = requests.get(na_520_500_pbdb_url, allow_redirects=True)\n",
    "    open(na_csv_filename, 'wb').write(r.content)\n",
    "\n",
    "# Kaili.\n",
    "pbdb_asia_occs_df = pd.read_csv(asia_csv_filename, \n",
    "                                low_memory=False, \n",
    "                                encoding='latin1',\n",
    "                                skiprows=21)\n",
    "kaili_occs_df = pbdb_asia_occs_df[pbdb_asia_occs_df.formation == 'Kaili']\n",
    "\n",
    "# Poleta.\n",
    "pbdb_na_occs_df = pd.read_csv(na_csv_filename, \n",
    "                              low_memory=False,\n",
    "                              encoding='latin1',\n",
    "                              skiprows=21)\n",
    "poleta_occs_df = pbdb_na_occs_df[pbdb_na_occs_df.formation == 'Poleta']\n",
    "\n",
    "# Burgess Shale.\n",
    "burgess_occs_df = pbdb_na_occs_df[pbdb_na_occs_df.formation == 'Burgess Shale']"
   ]
  },
  {
   "cell_type": "markdown",
   "id": "intermediate-geography",
   "metadata": {},
   "source": [
    "There are lots of columns. Like, *lots*. We will not use most of these, but here are some of them."
   ]
  },
  {
   "cell_type": "code",
   "execution_count": 39,
   "id": "acute-nowhere",
   "metadata": {},
   "outputs": [
    {
     "data": {
      "text/plain": [
       "Index(['occurrence_no', 'record_type', 'reid_no', 'flags', 'collection_no',\n",
       "       'identified_name', 'identified_rank', 'identified_no', 'difference',\n",
       "       'accepted_name',\n",
       "       ...\n",
       "       'ecospace_comments', 'composition', 'architecture', 'thickness',\n",
       "       'reinforcement', 'genus.1', 'formation.1', 'stratgroup.1', 'member.1',\n",
       "       'primary_reference'],\n",
       "      dtype='object', length=123)"
      ]
     },
     "execution_count": 39,
     "metadata": {},
     "output_type": "execute_result"
    }
   ],
   "source": [
    "kaili_occs_df.columns"
   ]
  },
  {
   "cell_type": "markdown",
   "id": "pleasant-kennedy",
   "metadata": {},
   "source": [
    "Now we want to get a list of just each taxon, which happens to be conveniently put in the \"identified_name\" column. This basically collapses all occurrences into a single taxon."
   ]
  },
  {
   "cell_type": "code",
   "execution_count": 40,
   "id": "romantic-metro",
   "metadata": {},
   "outputs": [
    {
     "name": "stdout",
     "output_type": "stream",
     "text": [
      "Kaili taxa: 130\n",
      "Poleta taxa: 45\n",
      "Burgess Shale taxa: 279\n"
     ]
    }
   ],
   "source": [
    "kaili_id_name_set = set()\n",
    "for id_name in kaili_occs_df['identified_name']:\n",
    "    kaili_id_name_set.add(id_name)\n",
    "burgess_id_name_set = set()\n",
    "for id_name in burgess_occs_df['identified_name']:\n",
    "    burgess_id_name_set.add(id_name)\n",
    "\n",
    "poleta_id_name_set = set()\n",
    "for id_name in poleta_occs_df['identified_name']:\n",
    "    poleta_id_name_set.add(id_name)\n",
    "\n",
    "# Print how many in each.\n",
    "print(f'Kaili taxa: {len(kaili_id_name_set)}')\n",
    "print(f'Poleta taxa: {len(poleta_id_name_set)}')\n",
    "print(f'Burgess Shale taxa: {len(burgess_id_name_set)}')"
   ]
  },
  {
   "cell_type": "markdown",
   "id": "determined-yield",
   "metadata": {},
   "source": [
    "Now let's dump the taxonomic info for every one of these into a CSV file."
   ]
  },
  {
   "cell_type": "code",
   "execution_count": 50,
   "id": "textile-incident",
   "metadata": {},
   "outputs": [],
   "source": [
    "with open(\"kaili_taxa.csv\", \"w\") as outfile:\n",
    "    print(\"phylum,class,order,family,genus,identified_name\", file=outfile)\n",
    "    for taxon in kaili_id_name_set:\n",
    "        phylum = kaili_occs_df[kaili_occs_df['identified_name'] == taxon].iloc[0]['phylum']\n",
    "        tax_class = kaili_occs_df[kaili_occs_df['identified_name'] == taxon].iloc[0]['class']\n",
    "        order = kaili_occs_df[kaili_occs_df['identified_name'] == taxon].iloc[0]['order']\n",
    "        family = kaili_occs_df[kaili_occs_df['identified_name'] == taxon].iloc[0]['family']\n",
    "        genus = kaili_occs_df[kaili_occs_df['identified_name'] == taxon].iloc[0]['genus']\n",
    "\n",
    "        print(f'{phylum}, {tax_class}, {order}, {family}, {genus}, {taxon}', file=outfile)"
   ]
  },
  {
   "cell_type": "code",
   "execution_count": 10,
   "id": "iraqi-housing",
   "metadata": {},
   "outputs": [],
   "source": [
    "with open(\"kaili_sp.csv\", \"w\") as outfile:\n",
    "    print(\"class, order, genus, species\", file=outfile)\n",
    "    for gs in kaili_genus_species_dict.keys():\n",
    "        row_num = kaili_genus_species_dict[gs][0]\n",
    "        cl = kaili_occs_df.loc[row_num]['class_name']\n",
    "        order = kaili_occs_df.loc[row_num]['order_name']\n",
    "        genus = kaili_occs_df.loc[row_num]['occurrence.genus_name']\n",
    "        species = kaili_occs_df.loc[row_num]['occurrence.species_name']\n",
    "        print(f'{cl}, {order}, {genus}, {species}', file=outfile)"
   ]
  },
  {
   "cell_type": "markdown",
   "id": "upper-sheep",
   "metadata": {},
   "source": [
    "Poleta:"
   ]
  },
  {
   "cell_type": "code",
   "execution_count": 11,
   "id": "solved-immigration",
   "metadata": {},
   "outputs": [],
   "source": [
    "poleta_genus_species_dict = defaultdict(list)\n",
    "for i, row in poleta_occs_df.iterrows():\n",
    "    genus =   row['occurrence.genus_name']\n",
    "    species = row['occurrence.species_name']\n",
    "    genus_species_binomial = f'{genus} {species}'\n",
    "\n",
    "    poleta_genus_species_dict[genus_species_binomial].append(i)\n",
    "\n",
    "with open(\"poleta_sp.csv\", \"w\") as outfile:\n",
    "    print(\"class, order, genus, species\", file=outfile)\n",
    "    for gs in poleta_genus_species_dict.keys():\n",
    "        row_num = poleta_genus_species_dict[gs][0]\n",
    "        cl = poleta_occs_df.loc[row_num]['class_name']\n",
    "        order = poleta_occs_df.loc[row_num]['order_name']\n",
    "        genus = poleta_occs_df.loc[row_num]['occurrence.genus_name']\n",
    "        species = poleta_occs_df.loc[row_num]['occurrence.species_name']\n",
    "        print(f'{cl}, {order}, {genus}, {species}', file=outfile)\n"
   ]
  },
  {
   "cell_type": "markdown",
   "id": "paperback-collapse",
   "metadata": {},
   "source": [
    "Burgess shale:"
   ]
  },
  {
   "cell_type": "code",
   "execution_count": 12,
   "id": "received-commitment",
   "metadata": {},
   "outputs": [],
   "source": [
    "burgess_genus_species_dict = defaultdict(list)\n",
    "for i, row in burgess_occs_df.iterrows():\n",
    "    genus =   row['occurrence.genus_name']\n",
    "    species = row['occurrence.species_name']\n",
    "    genus_species_binomial = f'{genus} {species}'\n",
    "\n",
    "    burgess_genus_species_dict[genus_species_binomial].append(i)\n",
    "\n",
    "with open(\"burgess_sp.csv\", \"w\") as outfile:\n",
    "    print(\"class, order, genus, species\", file=outfile)\n",
    "    for gs in burgess_genus_species_dict.keys():\n",
    "        row_num = burgess_genus_species_dict[gs][0]\n",
    "        cl = burgess_occs_df.loc[row_num]['class_name']\n",
    "        order = burgess_occs_df.loc[row_num]['order_name']\n",
    "        genus = burgess_occs_df.loc[row_num]['occurrence.genus_name']\n",
    "        species = burgess_occs_df.loc[row_num]['occurrence.species_name']\n",
    "        print(f'{cl}, {order}, {genus}, {species}', file=outfile)"
   ]
  },
  {
   "cell_type": "code",
   "execution_count": 13,
   "id": "welsh-intermediate",
   "metadata": {},
   "outputs": [
    {
     "data": {
      "text/plain": [
       "collection_no                      79769\n",
       "source_database                  PaleoDB\n",
       "collection.authorizer           A. Hendy\n",
       "class_name                   Eocrinoidea\n",
       "class_extant                          no\n",
       "order_name                       Gogiida\n",
       "order_extant                         NaN\n",
       "family_name                   Eocrinidae\n",
       "family_extant                        NaN\n",
       "genus_extant                         NaN\n",
       "species_extant                        no\n",
       "occurrence.genus_reso                NaN\n",
       "occurrence.genus_name       Sinoeocrinus\n",
       "occurrence.subgenus_reso             NaN\n",
       "occurrence.subgenus_name             NaN\n",
       "occurrence.species_reso              NaN\n",
       "occurrence.species_name              lui\n",
       "original.genus_reso                  NaN\n",
       "original.genus_name                  NaN\n",
       "original.subgenus_reso               NaN\n",
       "original.subgenus_name               NaN\n",
       "original.species_reso                NaN\n",
       "original.species_name                NaN\n",
       "occurrence.authorizer           A. Hendy\n",
       "occurrence.enterer              A. Hendy\n",
       "occurrence.modifier               A. Lin\n",
       "abund_value                          NaN\n",
       "abund_unit                           NaN\n",
       "occurrence.reference_no            26832\n",
       "comments                             NaN\n",
       "plant_organ                          NaN\n",
       "plant_organ2                         NaN\n",
       "original.authorizer                  NaN\n",
       "original.enterer                     NaN\n",
       "original.modifier                    NaN\n",
       "original.reference_no                NaN\n",
       "comments.1                           NaN\n",
       "plant_organ.1                        NaN\n",
       "first_author                  Y.-L. Zhao\n",
       "second_author                Y.-Z. Huang\n",
       "other_authors                 X.-Y. Gong\n",
       "year_named                          1994\n",
       "preservation                 not a trace\n",
       "type_specimen                        NaN\n",
       "type_body_part                       NaN\n",
       "common_name                          NaN\n",
       "collection.reference_no            26832\n",
       "10_my_bin                     Cambrian 3\n",
       "formation                          Kaili\n",
       "Name: 8680, dtype: object"
      ]
     },
     "execution_count": 13,
     "metadata": {},
     "output_type": "execute_result"
    }
   ],
   "source": [
    "kaili_occs_df.loc[8680]"
   ]
  },
  {
   "cell_type": "code",
   "execution_count": null,
   "id": "agreed-focus",
   "metadata": {},
   "outputs": [],
   "source": []
  }
 ],
 "metadata": {
  "kernelspec": {
   "display_name": "Python 3",
   "language": "python",
   "name": "python3"
  },
  "language_info": {
   "codemirror_mode": {
    "name": "ipython",
    "version": 3
   },
   "file_extension": ".py",
   "mimetype": "text/x-python",
   "name": "python",
   "nbconvert_exporter": "python",
   "pygments_lexer": "ipython3",
   "version": "3.7.9"
  },
  "toc-autonumbering": false,
  "toc-showcode": false,
  "toc-showmarkdowntxt": false
 },
 "nbformat": 4,
 "nbformat_minor": 5
}
